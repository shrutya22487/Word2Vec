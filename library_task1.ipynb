{
 "cells": [
  {
   "cell_type": "code",
   "execution_count": 1,
   "metadata": {},
   "outputs": [],
   "source": [
    "import json\n",
    "from transformers import BertTokenizer\n",
    "\n",
    "# Read and preprocess the corpus text\n",
    "corpus = []\n",
    "with open(\"corpus.txt\", 'r') as file: \n",
    "    text = file.read()\n",
    "    sentences = text.split('\\n')  # Split by new lines assuming each line is a sentence\n",
    "    for sentence in sentences: \n",
    "        sentence = sentence.strip()\n",
    "        if sentence:\n",
    "            corpus.append(sentence)\n",
    "\n",
    "# Initialize the BERT tokenizer (you can replace 'bert-base-uncased' with another model)\n",
    "tokenizer = BertTokenizer.from_pretrained('bert-base-uncased')\n",
    "\n",
    "# Prepare tokenized data from the corpus\n",
    "tokenized_corpus = [tokenizer.tokenize(sentence) for sentence in corpus]\n",
    "\n",
    "# Prepare to process the input JSON file\n",
    "input_json_path = 'sample_test.json'  # Replace with your input file path\n",
    "output_json_path = 'tokenized_data.json'  # Path to save tokenized output\n",
    "\n",
    "with open(input_json_path, 'r') as f:\n",
    "    data = json.load(f)\n",
    "\n",
    "# Prepare a dictionary to store the tokenized sentences\n",
    "tokenized_data = {}\n",
    "\n",
    "# Process each sentence in the input JSON\n",
    "for entry in data:\n",
    "    sentence_id = entry['id']\n",
    "    sentence = entry['sentence']  # Preprocess sentence\n",
    "    \n",
    "    # Tokenize the sentence using the tokenizer\n",
    "    tokens = tokenizer.tokenize(sentence)\n",
    "\n",
    "    # Store the tokens with the corresponding ID\n",
    "    tokenized_data[sentence_id] = tokens\n",
    "\n",
    "# Write the tokenized data to the output JSON file\n",
    "with open(output_json_path, 'w') as f:\n",
    "    json.dump(tokenized_data, f, indent=4)\n"
   ]
  }
 ],
 "metadata": {
  "kernelspec": {
   "display_name": "base",
   "language": "python",
   "name": "python3"
  },
  "language_info": {
   "codemirror_mode": {
    "name": "ipython",
    "version": 3
   },
   "file_extension": ".py",
   "mimetype": "text/x-python",
   "name": "python",
   "nbconvert_exporter": "python",
   "pygments_lexer": "ipython3",
   "version": "3.11.7"
  }
 },
 "nbformat": 4,
 "nbformat_minor": 2
}
